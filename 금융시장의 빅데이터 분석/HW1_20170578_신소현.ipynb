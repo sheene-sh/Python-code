{
 "cells": [
  {
   "cell_type": "markdown",
   "metadata": {},
   "source": [
    "1. Enter the following into Python, assiging each to a unique variable name:\n",
    "    - 4\n",
    "    - 3.1415\n",
    "    - 1.0\n",
    "    - 2+4j\n",
    "    - 'Hello'\n",
    "    - 'World'"
   ]
  },
  {
   "cell_type": "code",
   "execution_count": 1,
   "metadata": {},
   "outputs": [],
   "source": [
    "x = 4\n",
    "y = 3.1415\n",
    "a = 1.0\n",
    "b = 2+4j\n",
    "c = 'Hello'\n",
    "d = 'World'"
   ]
  },
  {
   "cell_type": "markdown",
   "metadata": {},
   "source": [
    "2. What is the type of each variable?"
   ]
  },
  {
   "cell_type": "code",
   "execution_count": 5,
   "metadata": {},
   "outputs": [
    {
     "name": "stdout",
     "output_type": "stream",
     "text": [
      "<class 'int'>\n",
      "<class 'float'>\n",
      "<class 'float'>\n",
      "<class 'complex'>\n",
      "<class 'str'>\n",
      "<class 'str'>\n"
     ]
    }
   ],
   "source": [
    "print(type(x))\n",
    "print(type(y))\n",
    "print(type(a))\n",
    "print(type(b))\n",
    "print(type(c))\n",
    "print(type(d))"
   ]
  },
  {
   "cell_type": "markdown",
   "metadata": {},
   "source": [
    "3. Input the variable \n",
    "ex = 'Python is an interesting and useful language for numerical computing!' \\\n",
    "Extract the strings below \n",
    "    - Python\n",
    "    - !\n",
    "    - Computing\n",
    "    - !gnitupmoc laciremun rof egaugnal lufesu dna gnitseretni na si nohtyP' (Reversed)\n",
    "    "
   ]
  },
  {
   "cell_type": "code",
   "execution_count": 3,
   "metadata": {},
   "outputs": [
    {
     "name": "stdout",
     "output_type": "stream",
     "text": [
      "Python\n",
      "!\n",
      "computing\n"
     ]
    },
    {
     "data": {
      "text/plain": [
       "'!gnitupmoc laciremun rof egaugnal lufesu dna gnitseretni na si nohtyP'"
      ]
     },
     "execution_count": 3,
     "metadata": {},
     "output_type": "execute_result"
    }
   ],
   "source": [
    "ex = 'Python is an interesting and useful language for numerical computing!'\n",
    "print(ex[:6])\n",
    "print(ex[-1])\n",
    "print(ex[-10:-1])\n",
    "ex[::-1]"
   ]
  },
  {
   "cell_type": "markdown",
   "metadata": {},
   "source": [
    "4. Construct a nested list to hold the arry\n",
    "$$\\begin{Bmatrix} 1 & 0.5 \\\\ 0.5 & 1 \\end{Bmatrix}$$\n",
    "so that item[i][j] corresponds to the position in the arrray"
   ]
  },
  {
   "cell_type": "code",
   "execution_count": 2,
   "metadata": {},
   "outputs": [
    {
     "name": "stdout",
     "output_type": "stream",
     "text": [
      "[[1, 0.5], [0.5, 1]]\n",
      "0.5\n"
     ]
    }
   ],
   "source": [
    "item = [[1,0.5],[0.5,1]]\n",
    "print(item)\n",
    "print(item[0][1])"
   ]
  },
  {
   "cell_type": "markdown",
   "metadata": {},
   "source": [
    "5. Assign the array you just created first to x, and then assign y=x. Change y[0][0] to 1.61. What happens to x?"
   ]
  },
  {
   "cell_type": "code",
   "execution_count": 3,
   "metadata": {},
   "outputs": [
    {
     "name": "stdout",
     "output_type": "stream",
     "text": [
      "[[1.61, 0.5], [0.5, 1]]\n"
     ]
    }
   ],
   "source": [
    "x=[[1,0.5],[0.5,1]]\n",
    "y=x\n",
    "y[0][0]=1.61\n",
    "print(x)"
   ]
  },
  {
   "cell_type": "code",
   "execution_count": null,
   "metadata": {},
   "outputs": [],
   "source": []
  }
 ],
 "metadata": {
  "kernelspec": {
   "display_name": "Python 3",
   "language": "python",
   "name": "python3"
  },
  "language_info": {
   "codemirror_mode": {
    "name": "ipython",
    "version": 3
   },
   "file_extension": ".py",
   "mimetype": "text/x-python",
   "name": "python",
   "nbconvert_exporter": "python",
   "pygments_lexer": "ipython3",
   "version": "3.8.5"
  }
 },
 "nbformat": 4,
 "nbformat_minor": 4
}
